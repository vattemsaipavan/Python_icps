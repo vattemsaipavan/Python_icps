{
 "cells": [
  {
   "cell_type": "code",
   "execution_count": 1,
   "metadata": {},
   "outputs": [],
   "source": [
    "from bs4 import BeautifulSoup\n",
    "import requests"
   ]
  },
  {
   "cell_type": "code",
   "execution_count": 11,
   "metadata": {},
   "outputs": [],
   "source": [
    "# Extract the following web URL text\n",
    "url = \"https://en.wikipedia.org/wiki/Google\"\n",
    "\n",
    "# Requesting the url \n",
    "resp = requests.get(url)\n",
    "\n",
    "# Parsing the requested content url to beautiful Soup\n",
    "page_soup = BeautifulSoup(resp.content,\"html.parser\")\n",
    "\n",
    "# Finding the Text element in the page\n",
    "data = page_soup.find('div', {'class': 'mw-parser-output'})\n",
    "\n",
    "with open(\"input.txt\",\"a+\") as file:\n",
    "    file.write(str(data.text.encode('utf-8'))+\"\\n\")"
   ]
  }
 ],
 "metadata": {
  "kernelspec": {
   "display_name": "Python 3",
   "language": "python",
   "name": "python3"
  },
  "language_info": {
   "codemirror_mode": {
    "name": "ipython",
    "version": 3
   },
   "file_extension": ".py",
   "mimetype": "text/x-python",
   "name": "python",
   "nbconvert_exporter": "python",
   "pygments_lexer": "ipython3",
   "version": "3.7.6"
  }
 },
 "nbformat": 4,
 "nbformat_minor": 4
}
