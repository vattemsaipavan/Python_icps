{
 "cells": [
  {
   "cell_type": "code",
   "execution_count": 34,
   "metadata": {},
   "outputs": [],
   "source": [
    "# importing some essential libraries\n",
    "from sklearn.naive_bayes import GaussianNB\n",
    "import pandas as pd\n",
    "from sklearn.model_selection import train_test_split\n",
    "from sklearn.metrics import classification_report\n",
    "from sklearn.metrics import accuracy_score"
   ]
  },
  {
   "cell_type": "code",
   "execution_count": 42,
   "metadata": {},
   "outputs": [
    {
     "name": "stdout",
     "output_type": "stream",
     "text": [
      "GNB accuracy is: 31.4\n",
      "Classification Report:\n",
      "              precision    recall  f1-score   support\n",
      "\n",
      "           1       0.33      0.04      0.06        28\n",
      "           2       0.56      0.15      0.24        33\n",
      "           3       0.16      0.73      0.26        11\n",
      "           5       0.20      0.50      0.29         2\n",
      "           6       0.43      1.00      0.60         3\n",
      "           7       0.82      1.00      0.90         9\n",
      "\n",
      "    accuracy                           0.31        86\n",
      "   macro avg       0.42      0.57      0.39        86\n",
      "weighted avg       0.45      0.31      0.27        86\n",
      "\n"
     ]
    }
   ],
   "source": [
    "# Reading the CSV file\n",
    "train_df = pd.read_csv('./glass.csv')\n",
    "\n",
    "# Reading the data in desired format\n",
    "X_train = train_df[['RI','Na','Mg','Al','Si','K','Ca','Ba','Fe']]\n",
    "Y_train = train_df[\"Type\"]\n",
    "\n",
    "# Use cross validation to create training and testing part\n",
    "X_train, X_test, Y_train, y_test= train_test_split(X_train, Y_train, test_size=0.4, random_state=0)\n",
    "\n",
    "# Navibayes algorithm implementation\n",
    "gnb = GaussianNB()\n",
    "gnb.fit(X_train, Y_train)                                      # we are training the model\n",
    "Y_pred = gnb.predict(X_test)                                   # to make a prediction we need to pass x_test as parameter \n",
    "acc_gnb = round(accuracy_score(y_test,Y_pred) * 100,2)           # Model Evalution\n",
    "print(\"GNB accuracy is:\",acc_gnb)\n",
    "print(\"Classification Report:\\n{}\".format(classification_report(y_test,Y_pred)))"
   ]
  },
  {
   "cell_type": "code",
   "execution_count": 39,
   "metadata": {},
   "outputs": [
    {
     "data": {
      "text/plain": [
       "27.906976744186046"
      ]
     },
     "execution_count": 39,
     "metadata": {},
     "output_type": "execute_result"
    }
   ],
   "source": [
    "accuracy_score(y_test,Y_pred)*100"
   ]
  }
 ],
 "metadata": {
  "kernelspec": {
   "display_name": "Python 3",
   "language": "python",
   "name": "python3"
  },
  "language_info": {
   "codemirror_mode": {
    "name": "ipython",
    "version": 3
   },
   "file_extension": ".py",
   "mimetype": "text/x-python",
   "name": "python",
   "nbconvert_exporter": "python",
   "pygments_lexer": "ipython3",
   "version": "3.7.6"
  }
 },
 "nbformat": 4,
 "nbformat_minor": 4
}
