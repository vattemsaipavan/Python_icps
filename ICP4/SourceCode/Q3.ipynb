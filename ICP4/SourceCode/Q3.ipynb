{
 "cells": [
  {
   "cell_type": "code",
   "execution_count": 12,
   "metadata": {},
   "outputs": [],
   "source": [
    "# importing some essential libraries\n",
    "import pandas as pd\n",
    "from sklearn.metrics import classification_report\n",
    "from sklearn.model_selection import train_test_split\n",
    "from sklearn.naive_bayes import GaussianNB\n",
    "from sklearn.svm import SVC\n",
    "from sklearn.metrics import accuracy_score"
   ]
  },
  {
   "cell_type": "code",
   "execution_count": 16,
   "metadata": {},
   "outputs": [
    {
     "name": "stdout",
     "output_type": "stream",
     "text": [
      "SVC Score: 38.37\n",
      "SVM Classification Report:\n",
      "               precision    recall  f1-score   support\n",
      "\n",
      "           1       0.00      0.00      0.00        28\n",
      "           2       0.38      1.00      0.55        33\n",
      "           3       0.00      0.00      0.00        11\n",
      "           5       0.00      0.00      0.00         2\n",
      "           6       0.00      0.00      0.00         3\n",
      "           7       0.00      0.00      0.00         9\n",
      "\n",
      "    accuracy                           0.38        86\n",
      "   macro avg       0.06      0.17      0.09        86\n",
      "weighted avg       0.15      0.38      0.21        86\n",
      "\n"
     ]
    },
    {
     "name": "stderr",
     "output_type": "stream",
     "text": [
      "C:\\ProgramData\\Anaconda3\\lib\\site-packages\\sklearn\\metrics\\_classification.py:1272: UndefinedMetricWarning: Precision and F-score are ill-defined and being set to 0.0 in labels with no predicted samples. Use `zero_division` parameter to control this behavior.\n",
      "  _warn_prf(average, modifier, msg_start, len(result))\n"
     ]
    }
   ],
   "source": [
    "# Reading the data\n",
    "df = pd.read_csv(\"glass.csv\")\n",
    "x_train = df.drop(\"Type\",axis=1)\n",
    "y_train = df[\"Type\"]\n",
    "\n",
    "# Use cross validation to create training and testing part\n",
    "x_train, x_test, y_train, y_test= train_test_split(x_train, y_train, test_size=0.4, random_state=0)\n",
    "\n",
    "# SVM implementation\n",
    "svc = SVC()                                                   \n",
    "svc.fit(x_train,y_train)                                        # we are training the model\n",
    "y_pred = svc.predict(x_test)                                     # to make a prediction we need to pass x_test as parameter\n",
    "svc_accuracy = round(accuracy_score(y_test,y_pred) * 100,2)      # Model Evalution\n",
    "print(\"SVC Score:\",svc_accuracy)\n",
    "print(\"SVM Classification Report:\\n\",classification_report(y_test,y_pred))"
   ]
  },
  {
   "cell_type": "code",
   "execution_count": null,
   "metadata": {},
   "outputs": [],
   "source": []
  }
 ],
 "metadata": {
  "kernelspec": {
   "display_name": "Python 3",
   "language": "python",
   "name": "python3"
  },
  "language_info": {
   "codemirror_mode": {
    "name": "ipython",
    "version": 3
   },
   "file_extension": ".py",
   "mimetype": "text/x-python",
   "name": "python",
   "nbconvert_exporter": "python",
   "pygments_lexer": "ipython3",
   "version": "3.7.6"
  }
 },
 "nbformat": 4,
 "nbformat_minor": 4
}
