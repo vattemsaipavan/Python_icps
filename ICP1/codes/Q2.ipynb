{
 "cells": [
  {
   "cell_type": "markdown",
   "metadata": {},
   "source": [
    "### Delete at least 2 characters, reverse the resultant string and print it."
   ]
  },
  {
   "cell_type": "code",
   "execution_count": 4,
   "metadata": {},
   "outputs": [
    {
     "name": "stdout",
     "output_type": "stream",
     "text": [
      "Enter the String: python\n"
     ]
    },
    {
     "data": {
      "text/plain": [
       "'htyp'"
      ]
     },
     "execution_count": 4,
     "metadata": {},
     "output_type": "execute_result"
    }
   ],
   "source": [
    "# Reading an input from the user\n",
    "query_string = input(\"Enter the String: \")\n",
    "# Slicing the string and printing the outputs\n",
    "query_string[-3::-1]"
   ]
  },
  {
   "cell_type": "markdown",
   "metadata": {},
   "source": [
    "### Performing Arthematic Operation"
   ]
  },
  {
   "cell_type": "code",
   "execution_count": 1,
   "metadata": {},
   "outputs": [
    {
     "name": "stdout",
     "output_type": "stream",
     "text": [
      "Enter the first number: 2\n",
      "Enter the second number: 5\n",
      "Addition of 2 numbers 2 and 5 is: 7\n",
      "Subtraction of 2 numbers 2 and 5 is: 3\n",
      "Multiplication of 2 numbers 2 and 5 is: 10\n",
      "Division of 2 numbers 2 and 5 is: 0.4\n",
      "Modulus of 2 numbers 2 and 5 is: 2\n",
      "Exponent of 2 numbers 2 and 5 is: 32\n"
     ]
    }
   ],
   "source": [
    "# Reading the inputs from the user\n",
    "number1 = int(input(\"Enter the first number: \"))\n",
    "number2 = int(input(\"Enter the second number: \"))\n",
    "# performing arthmatic operations\n",
    "print(\"Addition of 2 numbers {} and {} is: {}\".format(number1,number2,number1+number2))\n",
    "print(\"Subtraction of 2 numbers {} and {} is: {}\".format(number1,number2,abs(number1-number2)))\n",
    "print(\"Multiplication of 2 numbers {} and {} is: {}\".format(number1,number2,number1*number2))\n",
    "print(\"Division of 2 numbers {} and {} is: {}\".format(number1,number2,number1/number2))\n",
    "print(\"Modulus of 2 numbers {} and {} is: {}\".format(number1,number2,number1%number2))\n",
    "print(\"Exponent of 2 numbers {} and {} is: {}\".format(number1,number2,number1**number2))"
   ]
  }
 ],
 "metadata": {
  "kernelspec": {
   "display_name": "Python 3",
   "language": "python",
   "name": "python3"
  },
  "language_info": {
   "codemirror_mode": {
    "name": "ipython",
    "version": 3
   },
   "file_extension": ".py",
   "mimetype": "text/x-python",
   "name": "python",
   "nbconvert_exporter": "python",
   "pygments_lexer": "ipython3",
   "version": "3.7.6"
  }
 },
 "nbformat": 4,
 "nbformat_minor": 4
}
