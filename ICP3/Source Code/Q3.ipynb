{
 "cells": [
  {
   "cell_type": "markdown",
   "metadata": {},
   "source": [
    "### Numpy"
   ]
  },
  {
   "cell_type": "code",
   "execution_count": null,
   "metadata": {},
   "outputs": [],
   "source": [
    "Using NumPy create random vector of size 20 having only floating the range 1-20. \n",
    "Then reshape the array to 4 by 5\n",
    "Then replace the max in each row by 0(axis=1)"
   ]
  },
  {
   "cell_type": "code",
   "execution_count": 16,
   "metadata": {},
   "outputs": [
    {
     "name": "stdout",
     "output_type": "stream",
     "text": [
      "20 digits randome array ranging from 1-20 is: [ 7 11  7 12  7 10 14 16  9  5 16 10  8  6 17 13  3 18 10 16]\n",
      "\n",
      "Reshaping the array to 4*5 matrix: \n",
      "[[ 7 11  7 12  7]\n",
      " [10 14 16  9  5]\n",
      " [16 10  8  6 17]\n",
      " [13  3 18 10 16]]\n",
      "\n",
      "Replacing the max in each row by 0: \n",
      "[[ 7 11  7  0  7]\n",
      " [10 14  0  9  5]\n",
      " [16 10  8  6  0]\n",
      " [13  3  0 10 16]]\n"
     ]
    }
   ],
   "source": [
    "import numpy as np\n",
    "\n",
    "# generating the random 20 numbers using the numpy module\n",
    "random_numbers=np.random.randint(1,20,20)\n",
    "print(\"20 digits randome array ranging from 1-20 is: {}\\n\".format(random_numbers))\n",
    "\n",
    "# Reshaping the array of elements into 4*5 matrix\n",
    "reshape = random_numbers.reshape((4,5))\n",
    "print(\"Reshaping the array to 4*5 matrix: \\n{}\\n\".format(reshape))\n",
    "\n",
    "'''' replacing  the max in each row by 0\n",
    " where(condition, if true this value , false this value)\n",
    " numpy.amax(a, axis=None, out=None, keepdims=<no value>, initial=<no value>, where=<no value>)'''\n",
    "\n",
    "replace = np.where(reshape==np.amax(reshape,axis=1,keepdims=True),0,reshape)\n",
    "print('Replacing the max in each row by 0: \\n{}'.format(replace))"
   ]
  }
 ],
 "metadata": {
  "kernelspec": {
   "display_name": "Python 3",
   "language": "python",
   "name": "python3"
  },
  "language_info": {
   "codemirror_mode": {
    "name": "ipython",
    "version": 3
   },
   "file_extension": ".py",
   "mimetype": "text/x-python",
   "name": "python",
   "nbconvert_exporter": "python",
   "pygments_lexer": "ipython3",
   "version": "3.7.6"
  }
 },
 "nbformat": 4,
 "nbformat_minor": 4
}
