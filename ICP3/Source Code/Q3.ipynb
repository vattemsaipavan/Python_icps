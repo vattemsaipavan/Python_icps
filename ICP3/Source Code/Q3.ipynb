{
 "cells": [
  {
   "cell_type": "markdown",
   "metadata": {},
   "source": [
    "### Numpy"
   ]
  },
  {
   "cell_type": "code",
   "execution_count": null,
   "metadata": {},
   "outputs": [],
   "source": [
    "Using NumPy create random vector of size 20 having only floating the range 1-20. \n",
    "Then reshape the array to 4 by 5\n",
    "Then replace the max in each row by 0(axis=1)"
   ]
  },
  {
   "cell_type": "code",
   "execution_count": 35,
   "metadata": {},
   "outputs": [
    {
     "name": "stdout",
     "output_type": "stream",
     "text": [
      "20 digits randome array ranging from 1-20 is: [13.17235222  3.45364259  5.89391114  1.83181806 11.09938395 19.72171676\n",
      "  2.12225057  7.63957597  4.53706743 17.767945   14.42457226  7.47771978\n",
      " 10.54447355  9.24331923 18.56367562 19.20923906 15.30020245  7.74076683\n",
      " 17.05448315 15.21356891]\n",
      "\n",
      "Reshaping the array to 4*5 matrix: \n",
      "[[13.17235222  3.45364259  5.89391114  1.83181806 11.09938395]\n",
      " [19.72171676  2.12225057  7.63957597  4.53706743 17.767945  ]\n",
      " [14.42457226  7.47771978 10.54447355  9.24331923 18.56367562]\n",
      " [19.20923906 15.30020245  7.74076683 17.05448315 15.21356891]]\n",
      "\n",
      "Replacing the max in each row by 0: \n",
      "[[ 0.          3.45364259  5.89391114  1.83181806 11.09938395]\n",
      " [ 0.          2.12225057  7.63957597  4.53706743 17.767945  ]\n",
      " [14.42457226  7.47771978 10.54447355  9.24331923  0.        ]\n",
      " [ 0.         15.30020245  7.74076683 17.05448315 15.21356891]]\n"
     ]
    }
   ],
   "source": [
    "import numpy as np\n",
    "\n",
    "# generating the random 20 numbers using the numpy module\n",
    "random_numbers=np.random.uniform(1,20,20)\n",
    "print(\"20 digits randome array ranging from 1-20 is: {}\\n\".format(random_numbers))\n",
    "\n",
    "# Reshaping the array of elements into 4*5 matrix\n",
    "reshape = random_numbers.reshape((4,5))\n",
    "print(\"Reshaping the array to 4*5 matrix: \\n{}\\n\".format(reshape))\n",
    "\n",
    "'''' replacing  the max in each row by 0\n",
    " where(condition, if true this value , false this value)\n",
    " numpy.amax(a, axis=None, out=None, keepdims=<no value>, initial=<no value>, where=<no value>)'''\n",
    "\n",
    "replace = np.where(reshape==np.amax(reshape,axis=1,keepdims=True),0,reshape)\n",
    "print('Replacing the max in each row by 0: \\n{}'.format(replace))"
   ]
  }
 ],
 "metadata": {
  "kernelspec": {
   "display_name": "Python 3",
   "language": "python",
   "name": "python3"
  },
  "language_info": {
   "codemirror_mode": {
    "name": "ipython",
    "version": 3
   },
   "file_extension": ".py",
   "mimetype": "text/x-python",
   "name": "python",
   "nbconvert_exporter": "python",
   "pygments_lexer": "ipython3",
   "version": "3.7.6"
  }
 },
 "nbformat": 4,
 "nbformat_minor": 4
}
