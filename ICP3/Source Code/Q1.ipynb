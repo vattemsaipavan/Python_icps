{
 "cells": [
  {
   "cell_type": "markdown",
   "metadata": {},
   "source": [
    "### Create a class Employee and then do the following"
   ]
  },
  {
   "cell_type": "code",
   "execution_count": null,
   "metadata": {},
   "outputs": [],
   "source": [
    "Create a data member to count the number of Employees\n",
    "Create a constructor to initialize name, family, salary, department\n",
    "Create a function to average salary\n",
    "Create a Fulltime Employeeclass and it should inherit the properties of Employee class\n",
    "Create the instances of Fulltime Employeeclass and Employee class and call their member functions."
   ]
  },
  {
   "cell_type": "code",
   "execution_count": null,
   "metadata": {},
   "outputs": [],
   "source": [
    "# Intializing the Employee class that takes the __init__() , PrintAllEmployees() and averageSalary() methods\n",
    "class Employee():\n",
    "    employeeCount =0                                         #Intialize the count to zero\n",
    "    salary =0                                                #Intialize the salart to zero these are class Attributes\n",
    "    def __init__(self,name,family,salary,department):        #Passing the details to __init__()\n",
    "        self.name=name                                       #initialize the name to self.name this is a data attribute\n",
    "        self.family=family                                   #initialize the family to self.family this is a data attribute\n",
    "        Employee.salary+=salary                              #adding the salary of the employees\n",
    "        self.department=department                           #initialize the department to self.department this is a data attribute\n",
    "        Employee.employeeCount=Employee.employeeCount+1      #Adding the count of the employee\n",
    "    \n",
    "#     printAllEmployees() method will print the details of the employee\n",
    "    def printAllEmployees(self): \n",
    "        print('Name: {} \\nFamily: {} \\nDepartment: {}\\n'.format(self.name,self.family,self.department))\n",
    "\n",
    "#     Caluculating the average salary of the employee \n",
    "    def averageSalary(self):\n",
    "        self.avgSalary=Employee.salary/Employee.employeeCount\n",
    "        print ('The average salary of the employees is')\n",
    "        print (self.avgSalary)\n",
    "\n",
    "\n",
    "# This is FullTimeEmployee() method inherits the properties of the parentclass Employee()\n",
    "class FullTimeEmployee(Employee):\n",
    "    def __init__(self):\n",
    "        Employee.averageSalary(self)\n",
    "\n",
    "e1=Employee('Sai Pavan','Vattem',70000,'Software')\n",
    "e1.printAllEmployees()\n",
    "\n",
    "e2=Employee('Sai','Krish',77000,'IT')\n",
    "e2.printAllEmployees()\n",
    "\n",
    "\n",
    "f = FullTimeEmployee()"
   ]
  }
 ],
 "metadata": {
  "kernelspec": {
   "display_name": "Python 3",
   "language": "python",
   "name": "python3"
  },
  "language_info": {
   "codemirror_mode": {
    "name": "ipython",
    "version": 3
   },
   "file_extension": ".py",
   "mimetype": "text/x-python",
   "name": "python",
   "nbconvert_exporter": "python",
   "pygments_lexer": "ipython3",
   "version": "3.7.6"
  }
 },
 "nbformat": 4,
 "nbformat_minor": 4
}
