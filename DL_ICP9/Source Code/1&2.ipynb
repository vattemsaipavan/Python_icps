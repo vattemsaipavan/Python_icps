{
 "cells": [
  {
   "cell_type": "code",
   "execution_count": 1,
   "metadata": {},
   "outputs": [],
   "source": [
    "import tensorflow as tf\n",
    "from keras import Sequential\n",
    "from keras.datasets import mnist\n",
    "import numpy as np\n",
    "from keras.layers import Dense\n",
    "from keras.utils import to_categorical"
   ]
  },
  {
   "cell_type": "code",
   "execution_count": 2,
   "metadata": {},
   "outputs": [],
   "source": [
    "(train_images,train_labels),(test_images, test_labels) = mnist.load_data()"
   ]
  },
  {
   "cell_type": "code",
   "execution_count": 3,
   "metadata": {},
   "outputs": [
    {
     "data": {
      "text/plain": [
       "(28, 28)"
      ]
     },
     "execution_count": 3,
     "metadata": {},
     "output_type": "execute_result"
    }
   ],
   "source": [
    "train_images.shape[1:]"
   ]
  },
  {
   "cell_type": "markdown",
   "metadata": {},
   "source": [
    "# process the data\n",
    "\n",
    "convert each image of shape 28*28 to 784 dimensional which will be fed to the network as a single feature"
   ]
  },
  {
   "cell_type": "code",
   "execution_count": 13,
   "metadata": {},
   "outputs": [
    {
     "name": "stdout",
     "output_type": "stream",
     "text": [
      "784\n"
     ]
    }
   ],
   "source": [
    "dimData = np.prod(train_images.shape[1:])\n",
    "print(dimData)\n",
    "train_data = train_images.reshape(train_images.shape[0],dimData)\n",
    "test_data = test_images.reshape(test_images.shape[0],dimData)"
   ]
  },
  {
   "cell_type": "markdown",
   "metadata": {},
   "source": [
    "# convert data to float and scale values between 0 and 1"
   ]
  },
  {
   "cell_type": "code",
   "execution_count": 14,
   "metadata": {},
   "outputs": [],
   "source": [
    "train_data = train_data.astype('float')\n",
    "test_data = test_data.astype('float')"
   ]
  },
  {
   "cell_type": "markdown",
   "metadata": {},
   "source": [
    "# Scaled Data"
   ]
  },
  {
   "cell_type": "code",
   "execution_count": 15,
   "metadata": {},
   "outputs": [],
   "source": [
    "train_data /=255.0\n",
    "test_data /=255.0"
   ]
  },
  {
   "cell_type": "markdown",
   "metadata": {},
   "source": [
    "# change the labels frominteger to one-hot encoding. to_categorical is doing the same thing as LabelEncoder()"
   ]
  },
  {
   "cell_type": "code",
   "execution_count": 16,
   "metadata": {},
   "outputs": [],
   "source": [
    "train_labels_one_hot = to_categorical(train_labels)\n",
    "test_labels_one_hot = to_categorical(test_labels)"
   ]
  },
  {
   "cell_type": "markdown",
   "metadata": {},
   "source": [
    "# creating network"
   ]
  },
  {
   "cell_type": "code",
   "execution_count": 17,
   "metadata": {},
   "outputs": [],
   "source": [
    "model = Sequential()\n",
    "model.add(Dense(512, activation='relu', input_shape=(dimData,)))\n",
    "model.add(Dense(512, activation='relu'))\n",
    "model.add(Dense(10, activation='softmax'))"
   ]
  },
  {
   "cell_type": "markdown",
   "metadata": {},
   "source": [
    "# compile model"
   ]
  },
  {
   "cell_type": "code",
   "execution_count": 18,
   "metadata": {},
   "outputs": [],
   "source": [
    "model.compile(optimizer='rmsprop', loss='categorical_crossentropy', metrics=['accuracy'])"
   ]
  },
  {
   "cell_type": "code",
   "execution_count": 19,
   "metadata": {},
   "outputs": [
    {
     "name": "stdout",
     "output_type": "stream",
     "text": [
      "Epoch 1/10\n",
      "235/235 [==============================] - 8s 34ms/step - loss: 0.2672 - accuracy: 0.9184 - val_loss: 0.1133 - val_accuracy: 0.9640\n",
      "Epoch 2/10\n",
      "235/235 [==============================] - 6s 27ms/step - loss: 0.0919 - accuracy: 0.9711 - val_loss: 0.1542 - val_accuracy: 0.9479\n",
      "Epoch 3/10\n",
      "235/235 [==============================] - 7s 32ms/step - loss: 0.0572 - accuracy: 0.9823 - val_loss: 0.0766 - val_accuracy: 0.9768\n",
      "Epoch 4/10\n",
      "235/235 [==============================] - 6s 27ms/step - loss: 0.0406 - accuracy: 0.9873 - val_loss: 0.1224 - val_accuracy: 0.9642\n",
      "Epoch 5/10\n",
      "235/235 [==============================] - 7s 29ms/step - loss: 0.0290 - accuracy: 0.9906 - val_loss: 0.0693 - val_accuracy: 0.9803\n",
      "Epoch 6/10\n",
      "235/235 [==============================] - 8s 32ms/step - loss: 0.0222 - accuracy: 0.9929 - val_loss: 0.0822 - val_accuracy: 0.9788\n",
      "Epoch 7/10\n",
      "235/235 [==============================] - 7s 31ms/step - loss: 0.0185 - accuracy: 0.9943 - val_loss: 0.0758 - val_accuracy: 0.9816\n",
      "Epoch 8/10\n",
      "235/235 [==============================] - 7s 32ms/step - loss: 0.0141 - accuracy: 0.9951 - val_loss: 0.0815 - val_accuracy: 0.9809\n",
      "Epoch 9/10\n",
      "235/235 [==============================] - 7s 32ms/step - loss: 0.0110 - accuracy: 0.9966 - val_loss: 0.1009 - val_accuracy: 0.9788\n",
      "Epoch 10/10\n",
      "235/235 [==============================] - 7s 29ms/step - loss: 0.0094 - accuracy: 0.9970 - val_loss: 0.0922 - val_accuracy: 0.9808\n"
     ]
    }
   ],
   "source": [
    "history = model.fit(train_data, train_labels_one_hot, batch_size=256, epochs=10, verbose=1,\n",
    "                   validation_data=(test_data, test_labels_one_hot))"
   ]
  },
  {
   "cell_type": "code",
   "execution_count": 26,
   "metadata": {},
   "outputs": [
    {
     "name": "stdout",
     "output_type": "stream",
     "text": [
      "313/313 [==============================] - 1s 4ms/step - loss: 0.0922 - accuracy: 0.9808\n",
      "Evaluation result on Test Data : Loss = 0.09224045276641846, accuracy = 0.9807999730110168\n"
     ]
    },
    {
     "data": {
      "image/png": "[encoded data removed]",
      "text/plain": [
       "<Figure size 432x288 with 1 Axes>"
      ]
     },
     "metadata": {
      "needs_background": "light"
     },
     "output_type": "display_data"
    }
   ],
   "source": [
    "[test_loss, test_acc] = model.evaluate(test_data, test_labels_one_hot)\n",
    "print(\"Evaluation result on Test Data : Loss = {}, accuracy = {}\".format(test_loss, test_acc))\n",
    "image_index = 444\n",
    "plt.imshow(test_data[image_index].reshape(28, 28),cmap='Greys')\n",
    "plt.title(\"Image of Digit from the test data\")\n",
    "plt.show()"
   ]
  },
  {
   "cell_type": "code",
   "execution_count": 27,
   "metadata": {},
   "outputs": [
    {
     "name": "stdout",
     "output_type": "stream",
     "text": [
      "Predicted digit: 2\n",
      "dict_keys(['loss', 'accuracy', 'val_loss', 'val_accuracy'])\n"
     ]
    }
   ],
   "source": [
    "pred = model.predict(test_data[image_index].reshape(1,784))\n",
    "print(\"Predicted digit:\",pred.argmax())\n",
    "print(history.history.keys())"
   ]
  },
  {
   "cell_type": "markdown",
   "metadata": {},
   "source": [
    "# summarize history for accuracy"
   ]
  },
  {
   "cell_type": "code",
   "execution_count": 25,
   "metadata": {},
   "outputs": [
    {
     "data": {
      "image/png": "[encoded data removed]",
      "text/plain": [
       "<Figure size 432x288 with 1 Axes>"
      ]
     },
     "metadata": {
      "needs_background": "light"
     },
     "output_type": "display_data"
    }
   ],
   "source": [
    "plt.plot(history.history['accuracy'])\n",
    "plt.plot(history.history['val_accuracy'])\n",
    "plt.title('model accuracy')\n",
    "plt.ylabel('accuracy')\n",
    "plt.xlabel('epoch')\n",
    "plt.legend(['train', 'test'], loc='upper left')\n",
    "plt.show()"
   ]
  }
 ],
 "metadata": {
  "kernelspec": {
   "display_name": "Python 3",
   "language": "python",
   "name": "python3"
  },
  "language_info": {
   "codemirror_mode": {
    "name": "ipython",
    "version": 3
   },
   "file_extension": ".py",
   "mimetype": "text/x-python",
   "name": "python",
   "nbconvert_exporter": "python",
   "pygments_lexer": "ipython3",
   "version": "3.7.6"
  }
 },
 "nbformat": 4,
 "nbformat_minor": 4
}
