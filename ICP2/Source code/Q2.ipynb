{
 "cells": [
  {
   "cell_type": "markdown",
   "metadata": {},
   "source": [
    "### Write a program that returns every other char of a given string starting with first using a function named “string_alternative”"
   ]
  },
  {
   "cell_type": "code",
   "execution_count": 2,
   "metadata": {},
   "outputs": [
    {
     "name": "stdout",
     "output_type": "stream",
     "text": [
      "Enter Input String:Good evening\n",
      "Input: Good evening\n",
      "Output:  Go vnn\n"
     ]
    }
   ],
   "source": [
    "'''\n",
    "Creation of the string_alternative function\n",
    "'''\n",
    "def string_alternative(value):\n",
    "    list_input=list(value)                               # Storing the value to list \n",
    "    list_output=[]                                       # Creating a empty list list_output\n",
    "    for i in range(len(list_input)):                     # Iterating through the list and storing the even postions into list_out\n",
    "        if(i%2==0):\n",
    "             list_output.append(list_input[i])\n",
    "    string=''.join(list_output)                          # Performing the join operation and storing and returing into the string\n",
    "    return string\n",
    "\n",
    "'''\n",
    "Main method that obtain a string from the user and pass \n",
    "the value to the string_alternative function and print outputs'''\n",
    "if __name__ == '__main__':\n",
    "    input_string = input((\"Enter Input String:\"))\n",
    "    print(\"Input:\", input_string)\n",
    "    print(\"Output: \",string_alternative(input_string))\n"
   ]
  }
 ],
 "metadata": {
  "kernelspec": {
   "display_name": "Python 3",
   "language": "python",
   "name": "python3"
  },
  "language_info": {
   "codemirror_mode": {
    "name": "ipython",
    "version": 3
   },
   "file_extension": ".py",
   "mimetype": "text/x-python",
   "name": "python",
   "nbconvert_exporter": "python",
   "pygments_lexer": "ipython3",
   "version": "3.7.6"
  }
 },
 "nbformat": 4,
 "nbformat_minor": 4
}
