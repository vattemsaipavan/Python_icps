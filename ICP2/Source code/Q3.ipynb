{
 "cells": [
  {
   "cell_type": "markdown",
   "metadata": {},
   "source": [
    "### Write a python program to find the wordcountin a file for each line and thenprint the output.Finally store the output back to the file"
   ]
  },
  {
   "cell_type": "code",
   "execution_count": 33,
   "metadata": {},
   "outputs": [
    {
     "name": "stdout",
     "output_type": "stream",
     "text": [
      "Python 1\n",
      "Course 2\n",
      "Deep 1\n",
      "Learning 1\n"
     ]
    }
   ],
   "source": [
    "#  Creating a empty dictionary \n",
    "wordcount={}\n",
    "\n",
    "# Reading the text file\n",
    "with open(\"icp3.txt\",\"r\") as file:\n",
    "    for i in file.read().split():       # Here we will split the words in file\n",
    "        if i not in wordcount:          # if the word is not in dict we will count as 1 if it present we will add 1 in else block\n",
    "            wordcount[i] = 1\n",
    "        else:\n",
    "            wordcount[i] += 1\n",
    "\n",
    "#  Appending the output to the same file\n",
    "with open(\"icp3.txt\",\"a+\") as file:\n",
    "    file.write(\"\\n\")\n",
    "    file.write(\"\\n\")\n",
    "    file.write(\"Output:\")\n",
    "    for i,j in wordcount.items():\n",
    "        print(i,j)\n",
    "        string=str(i)+\" \"+str(j)\n",
    "        file.write(\"\\n\")\n",
    "        file.write(string)"
   ]
  }
 ],
 "metadata": {
  "kernelspec": {
   "display_name": "Python 3",
   "language": "python",
   "name": "python3"
  },
  "language_info": {
   "codemirror_mode": {
    "name": "ipython",
    "version": 3
   },
   "file_extension": ".py",
   "mimetype": "text/x-python",
   "name": "python",
   "nbconvert_exporter": "python",
   "pygments_lexer": "ipython3",
   "version": "3.7.6"
  }
 },
 "nbformat": 4,
 "nbformat_minor": 4
}
