{
 "cells": [
  {
   "cell_type": "markdown",
   "metadata": {},
   "source": [
    "### Write a program, which reads weights (lbs.) of Nstudents into a list and convert these weights to kilograms in a separate list"
   ]
  },
  {
   "cell_type": "code",
   "execution_count": 4,
   "metadata": {},
   "outputs": [
    {
     "name": "stdout",
     "output_type": "stream",
     "text": [
      "Enter Number of Students:2\n",
      "Enter Lb Weight of 1 Student:\n",
      "978\n",
      "Enter Lb Weight of 2 Student:\n",
      "795\n"
     ]
    },
    {
     "data": {
      "text/plain": [
       "[443.53669199999996, 360.54362999999995]"
      ]
     },
     "execution_count": 4,
     "metadata": {},
     "output_type": "execute_result"
    }
   ],
   "source": [
    "# Reading no of students from the user\n",
    "no_of_students=int(input(\"Enter Number of Students:\"))\n",
    "\n",
    "# Creating the 2 sets list_lb and list_kg\n",
    "list_lb=[]\n",
    "list_kg=[]\n",
    "\n",
    "# Entering the elements in list_lb using for loop\n",
    "for i in range(no_of_students):\n",
    "        print(\"Enter Lb Weight of\", i+1 ,\"Student:\")\n",
    "        lb_weight=int(input())\n",
    "        list_lb.append(lb_weight)\n",
    "\n",
    "# Caluculating the  entire list_lb into KG format using list comprehensions\n",
    "list_kg=[list_lb[i]*(0.453514) for i in range(no_of_students)]\n",
    "\n",
    "# Printing the details\n",
    "print(\"Weight of Students in lb\",list_lb)\n",
    "print(\"Weight of Students in KG\",list_kg)"
   ]
  }
 ],
 "metadata": {
  "kernelspec": {
   "display_name": "Python 3",
   "language": "python",
   "name": "python3"
  },
  "language_info": {
   "codemirror_mode": {
    "name": "ipython",
    "version": 3
   },
   "file_extension": ".py",
   "mimetype": "text/x-python",
   "name": "python",
   "nbconvert_exporter": "python",
   "pygments_lexer": "ipython3",
   "version": "3.7.6"
  }
 },
 "nbformat": 4,
 "nbformat_minor": 4
}
